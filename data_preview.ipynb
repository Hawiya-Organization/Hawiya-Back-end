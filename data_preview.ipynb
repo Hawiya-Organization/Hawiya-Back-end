{
 "cells": [
  {
   "cell_type": "code",
   "execution_count": 2,
   "metadata": {},
   "outputs": [
    {
     "data": {
      "text/html": [
       "<div>\n",
       "<style scoped>\n",
       "    .dataframe tbody tr th:only-of-type {\n",
       "        vertical-align: middle;\n",
       "    }\n",
       "\n",
       "    .dataframe tbody tr th {\n",
       "        vertical-align: top;\n",
       "    }\n",
       "\n",
       "    .dataframe thead th {\n",
       "        text-align: right;\n",
       "    }\n",
       "</style>\n",
       "<table border=\"1\" class=\"dataframe\">\n",
       "  <thead>\n",
       "    <tr style=\"text-align: right;\">\n",
       "      <th></th>\n",
       "      <th>العصر</th>\n",
       "      <th>الشاعر</th>\n",
       "      <th>الديوان</th>\n",
       "      <th>القافية</th>\n",
       "      <th>البحر</th>\n",
       "      <th>الشطر الايسر</th>\n",
       "      <th>الشطر الايمن</th>\n",
       "      <th>البيت</th>\n",
       "    </tr>\n",
       "  </thead>\n",
       "  <tbody>\n",
       "    <tr>\n",
       "      <th>0</th>\n",
       "      <td>قبل الإسلام</td>\n",
       "      <td>عمرو بنِ قُمَيئَة</td>\n",
       "      <td>الديوان الرئيسي</td>\n",
       "      <td>د</td>\n",
       "      <td>الطويل</td>\n",
       "      <td>وَأَن تَجمَعا شَملي وَتَنتَظِرا غَدا</td>\n",
       "      <td>خَليلَيَّ لا تَستَعجِلا أَن تَزَوَّدا</td>\n",
       "      <td>خَليلَيَّ لا تَستَعجِلا أَن تَزَوَّدا    وَأَن...</td>\n",
       "    </tr>\n",
       "    <tr>\n",
       "      <th>1</th>\n",
       "      <td>قبل الإسلام</td>\n",
       "      <td>عمرو بنِ قُمَيئَة</td>\n",
       "      <td>الديوان الرئيسي</td>\n",
       "      <td>د</td>\n",
       "      <td>الطويل</td>\n",
       "      <td>وَلا سُرعَتي يَوماً بِسابِقَةِ الرَدى</td>\n",
       "      <td>فَما لَبَثٌ يَوماً بِسابِقٍ مَغنَمٍ</td>\n",
       "      <td>فَما لَبَثٌ يَوماً بِسابِقٍ مَغنَمٍ    وَلا سُ...</td>\n",
       "    </tr>\n",
       "    <tr>\n",
       "      <th>2</th>\n",
       "      <td>قبل الإسلام</td>\n",
       "      <td>عمرو بنِ قُمَيئَة</td>\n",
       "      <td>الديوان الرئيسي</td>\n",
       "      <td>د</td>\n",
       "      <td>الطويل</td>\n",
       "      <td>وَتَستَوجِبا مَنّاً عَلَيَّ وَتُحمَدا</td>\n",
       "      <td>وَإِن تُنظِراني اليَومَ أَقضِ لُبانَةً</td>\n",
       "      <td>وَإِن تُنظِراني اليَومَ أَقضِ لُبانَةً    وَتَ...</td>\n",
       "    </tr>\n",
       "    <tr>\n",
       "      <th>3</th>\n",
       "      <td>قبل الإسلام</td>\n",
       "      <td>عمرو بنِ قُمَيئَة</td>\n",
       "      <td>الديوان الرئيسي</td>\n",
       "      <td>د</td>\n",
       "      <td>الطويل</td>\n",
       "      <td>تُؤامِرُني سِرّاً لِأَصرِمَ مَرثَدا</td>\n",
       "      <td>لَعَمرُكَ ما نَفسٌ بِجِدٍ رَشيدَةٍ</td>\n",
       "      <td>لَعَمرُكَ ما نَفسٌ بِجِدٍ رَشيدَةٍ    تُؤامِرُ...</td>\n",
       "    </tr>\n",
       "    <tr>\n",
       "      <th>4</th>\n",
       "      <td>قبل الإسلام</td>\n",
       "      <td>عمرو بنِ قُمَيئَة</td>\n",
       "      <td>الديوان الرئيسي</td>\n",
       "      <td>د</td>\n",
       "      <td>الطويل</td>\n",
       "      <td>وَأَفرَعَ في لَومي مِراراً وَأَصعَدا</td>\n",
       "      <td>وَإِن ظَهَرَت مِنهُ قَوارِصُ جَمَّةٌ</td>\n",
       "      <td>وَإِن ظَهَرَت مِنهُ قَوارِصُ جَمَّةٌ    وَأَفر...</td>\n",
       "    </tr>\n",
       "  </tbody>\n",
       "</table>\n",
       "</div>"
      ],
      "text/plain": [
       "         العصر             الشاعر          الديوان القافية   البحر  \\\n",
       "0  قبل الإسلام  عمرو بنِ قُمَيئَة  الديوان الرئيسي       د  الطويل   \n",
       "1  قبل الإسلام  عمرو بنِ قُمَيئَة  الديوان الرئيسي       د  الطويل   \n",
       "2  قبل الإسلام  عمرو بنِ قُمَيئَة  الديوان الرئيسي       د  الطويل   \n",
       "3  قبل الإسلام  عمرو بنِ قُمَيئَة  الديوان الرئيسي       د  الطويل   \n",
       "4  قبل الإسلام  عمرو بنِ قُمَيئَة  الديوان الرئيسي       د  الطويل   \n",
       "\n",
       "                            الشطر الايسر  \\\n",
       "0   وَأَن تَجمَعا شَملي وَتَنتَظِرا غَدا   \n",
       "1  وَلا سُرعَتي يَوماً بِسابِقَةِ الرَدى   \n",
       "2  وَتَستَوجِبا مَنّاً عَلَيَّ وَتُحمَدا   \n",
       "3    تُؤامِرُني سِرّاً لِأَصرِمَ مَرثَدا   \n",
       "4   وَأَفرَعَ في لَومي مِراراً وَأَصعَدا   \n",
       "\n",
       "                             الشطر الايمن  \\\n",
       "0   خَليلَيَّ لا تَستَعجِلا أَن تَزَوَّدا   \n",
       "1     فَما لَبَثٌ يَوماً بِسابِقٍ مَغنَمٍ   \n",
       "2  وَإِن تُنظِراني اليَومَ أَقضِ لُبانَةً   \n",
       "3      لَعَمرُكَ ما نَفسٌ بِجِدٍ رَشيدَةٍ   \n",
       "4    وَإِن ظَهَرَت مِنهُ قَوارِصُ جَمَّةٌ   \n",
       "\n",
       "                                               البيت  \n",
       "0  خَليلَيَّ لا تَستَعجِلا أَن تَزَوَّدا    وَأَن...  \n",
       "1  فَما لَبَثٌ يَوماً بِسابِقٍ مَغنَمٍ    وَلا سُ...  \n",
       "2  وَإِن تُنظِراني اليَومَ أَقضِ لُبانَةً    وَتَ...  \n",
       "3  لَعَمرُكَ ما نَفسٌ بِجِدٍ رَشيدَةٍ    تُؤامِرُ...  \n",
       "4  وَإِن ظَهَرَت مِنهُ قَوارِصُ جَمَّةٌ    وَأَفر...  "
      ]
     },
     "execution_count": 2,
     "metadata": {},
     "output_type": "execute_result"
    }
   ],
   "source": [
    "import pandas as pd \n",
    "\n",
    "\n",
    "df=pd.read_csv(\"./storage/app/public/data.csv\")\n",
    "\n",
    "df.head()\n"
   ]
  },
  {
   "cell_type": "code",
   "execution_count": 3,
   "metadata": {},
   "outputs": [
    {
     "ename": "",
     "evalue": "",
     "output_type": "error",
     "traceback": [
      "\u001b[1;31mThe Kernel crashed while executing code in the current cell or a previous cell. \n",
      "\u001b[1;31mPlease review the code in the cell(s) to identify a possible cause of the failure. \n",
      "\u001b[1;31mClick <a href='https://aka.ms/vscodeJupyterKernelCrash'>here</a> for more info. \n",
      "\u001b[1;31mView Jupyter <a href='command:jupyter.viewOutput'>log</a> for further details."
     ]
    }
   ],
   "source": [
    "unique_poets = df['الشاعر'].unique()\n",
    "\n",
    "# Convert the unique poets array to a DataFrame\n",
    "unique_poets_df = pd.DataFrame(unique_poets, columns=['Poet'])\n",
    "\n",
    "# Save the DataFrame to a CSV file\n",
    "unique_poets_df.to_r(\"../poets.csv\", index=False)"
   ]
  },
  {
   "cell_type": "code",
   "execution_count": 4,
   "metadata": {},
   "outputs": [],
   "source": [
    "df_athors=pd.read_csv(\"../poets.csv\")\n",
    "\n",
    "df_athors['Poet'].to_csv('poets.txt', index=False, header=False, sep='\\n')"
   ]
  },
  {
   "cell_type": "code",
   "execution_count": 5,
   "metadata": {},
   "outputs": [],
   "source": [
    "unnique_bahr = df['البحر'].unique()\n",
    "unnique_bahr_df = pd.DataFrame(unnique_bahr, columns=['Bahr'])\n",
    "unnique_bahr_df['Bahr'].to_csv('bahrs.txt', index=False, header=False, sep='\\n')\n"
   ]
  },
  {
   "cell_type": "code",
   "execution_count": 6,
   "metadata": {},
   "outputs": [],
   "source": [
    "unnique_bahr = df['القافية'].unique()\n",
    "unnique_bahr_df = pd.DataFrame(unnique_bahr, columns=['Bahr'])\n",
    "unnique_bahr_df['Bahr'].to_csv('kafiya.txt', index=False, header=False, sep='\\n')"
   ]
  },
  {
   "cell_type": "code",
   "execution_count": 7,
   "metadata": {},
   "outputs": [],
   "source": [
    "unnique_bahr = df['الديوان'].unique()\n",
    "unnique_bahr_df = pd.DataFrame(unnique_bahr, columns=['Bahr'])\n",
    "unnique_bahr_df['Bahr'].to_csv('diwan.txt', index=False, header=False, sep='\\n')"
   ]
  },
  {
   "cell_type": "code",
   "execution_count": 8,
   "metadata": {},
   "outputs": [],
   "source": [
    "unnique_bahr = df['العصر'].unique()\n",
    "unnique_bahr_df = pd.DataFrame(unnique_bahr, columns=['Bahr'])\n",
    "unnique_bahr_df['Bahr'].to_csv('asrs.txt', index=False, header=False, sep='\\n')"
   ]
  },
  {
   "cell_type": "code",
   "execution_count": 2,
   "metadata": {},
   "outputs": [],
   "source": [
    "\n",
    "def convert(filename):\n",
    "    with open(filename, \"r\", encoding=\"utf-8\") as file:\n",
    "        names = file.readlines()\n",
    "\n",
    "    # Strip any leading or trailing whitespace from each name\n",
    "    names = [name.strip() for name in names]\n",
    "\n",
    "    # Construct the desired format\n",
    "    formatted_names = \"[\\n\"\n",
    "    for name in names:\n",
    "        formatted_names += f\"    ['name' => '{name}'],\\n\"\n",
    "    formatted_names += \"]\"\n",
    "\n",
    "    # Write the formatted names to a new file\n",
    "    with open(f\"{filename}_output.txt\", \"w\", encoding=\"utf-8\") as file:\n",
    "        file.write(formatted_names)\n",
    "\n",
    "convert(\"./asrs.txt\")\n",
    "convert(\"./bahrs.txt\")\n",
    "convert(\"./diwan.txt\")\n",
    "convert(\"./kafiya.txt\")"
   ]
  }
 ],
 "metadata": {
  "kernelspec": {
   "display_name": "lab1",
   "language": "python",
   "name": "python3"
  },
  "language_info": {
   "codemirror_mode": {
    "name": "ipython",
    "version": 3
   },
   "file_extension": ".py",
   "mimetype": "text/x-python",
   "name": "python",
   "nbconvert_exporter": "python",
   "pygments_lexer": "ipython3",
   "version": "3.11.5"
  }
 },
 "nbformat": 4,
 "nbformat_minor": 2
}
