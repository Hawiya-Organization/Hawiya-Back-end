{
 "cells": [
  {
   "cell_type": "code",
   "execution_count": 9,
   "metadata": {},
   "outputs": [],
   "source": [
    "import pandas as pd \n",
    "\n",
    "tables=['authors','asrs','diwans','kafiyas','bahr_types']\n",
    "\n",
    "for table in tables:\n",
    "    globals()[table] = pd.read_csv(f'./db_as_csv/public.{table}.csv')\n",
    "    \n",
    "    \n",
    "\n"
   ]
  },
  {
   "cell_type": "code",
   "execution_count": 10,
   "metadata": {},
   "outputs": [
    {
     "data": {
      "text/plain": [
       "Index(['العصر', 'الشاعر', 'الديوان', 'القافية', 'البحر', 'الشطر الايسر',\n",
       "       'الشطر الايمن', 'البيت'],\n",
       "      dtype='object')"
      ]
     },
     "execution_count": 10,
     "metadata": {},
     "output_type": "execute_result"
    }
   ],
   "source": [
    "data=pd.read_csv(\"./storage/app/public/data.csv\")\n",
    "\n",
    "\n",
    "data.columns\n"
   ]
  },
  {
   "cell_type": "code",
   "execution_count": 11,
   "metadata": {},
   "outputs": [
    {
     "name": "stdout",
     "output_type": "stream",
     "text": [
      "1831770\n"
     ]
    }
   ],
   "source": [
    "print(len(data))"
   ]
  },
  {
   "cell_type": "code",
   "execution_count": 12,
   "metadata": {},
   "outputs": [
    {
     "name": "stdout",
     "output_type": "stream",
     "text": [
      "Index(['id', 'name', 'created_at', 'updated_at'], dtype='object') kafiyas\n",
      "Index(['id', 'name', 'created_at', 'updated_at'], dtype='object') bahr_types\n",
      "Index(['id', 'name', 'bio', 'created_at', 'updated_at'], dtype='object') authors\n",
      "Index(['id', 'name', 'created_at', 'updated_at'], dtype='object') asrs\n",
      "Index(['id', 'name', 'created_at', 'updated_at'], dtype='object') diwans\n"
     ]
    }
   ],
   "source": [
    "join_rule={'القافية':'kafiyas','البحر':'bahr_types','الشاعر':'authors','العصر':'asrs',\n",
    "'الديوان':'diwans'\n",
    "}\n",
    "\n",
    "\n",
    "\n",
    "\n",
    "for key,value in join_rule.items():\n",
    "    print(globals()[value].columns,value)\n",
    "\n",
    "    data=data.merge(globals()[value][['name','id']],left_on=key,how='outer',right_on='name',suffixes=('',f'_{key}'))\n",
    "    \n",
    "\n",
    "\n",
    "\n"
   ]
  },
  {
   "cell_type": "code",
   "execution_count": 13,
   "metadata": {},
   "outputs": [],
   "source": [
    "\n",
    "data.rename(columns={'id':'id_القافية','name':'name_القافية'},inplace=True)\n",
    "\n",
    "\n",
    "renaming_rule={\n",
    "    'id_القافية':'kafiya_id',\n",
    "    'id_البحر':'bahr_type_id',\n",
    "    'id_الشاعر':'author_id',\n",
    "    'id_العصر':'asr_id',\n",
    "    'id_الديوان':'diwan_id'\n",
    "}\n",
    "\n",
    "data.rename(columns=renaming_rule,inplace=True)\n",
    "\n",
    "data\n",
    "\n",
    "\n",
    "columns_to_drop=['القافية','البحر','الشاعر','العصر','الديوان']\n",
    "\n",
    "columns_to_drop+=['name_القافية','name_البحر','name_الشاعر','name_العصر','name_الديوان']\n",
    "\n",
    "data.drop(columns=columns_to_drop,inplace=True)"
   ]
  },
  {
   "cell_type": "code",
   "execution_count": 14,
   "metadata": {},
   "outputs": [],
   "source": [
    "data.to_csv(\"./storage/app/public/ready_for_insertion.csv\",index=True)"
   ]
  },
  {
   "cell_type": "code",
   "execution_count": 15,
   "metadata": {},
   "outputs": [
    {
     "data": {
      "text/html": [
       "<div>\n",
       "<style scoped>\n",
       "    .dataframe tbody tr th:only-of-type {\n",
       "        vertical-align: middle;\n",
       "    }\n",
       "\n",
       "    .dataframe tbody tr th {\n",
       "        vertical-align: top;\n",
       "    }\n",
       "\n",
       "    .dataframe thead th {\n",
       "        text-align: right;\n",
       "    }\n",
       "</style>\n",
       "<table border=\"1\" class=\"dataframe\">\n",
       "  <thead>\n",
       "    <tr style=\"text-align: right;\">\n",
       "      <th></th>\n",
       "      <th>الشطر الايسر</th>\n",
       "      <th>الشطر الايمن</th>\n",
       "      <th>البيت</th>\n",
       "      <th>kafiya_id</th>\n",
       "      <th>bahr_type_id</th>\n",
       "      <th>author_id</th>\n",
       "      <th>asr_id</th>\n",
       "      <th>diwan_id</th>\n",
       "      <th>poem_id</th>\n",
       "    </tr>\n",
       "  </thead>\n",
       "  <tbody>\n",
       "    <tr>\n",
       "      <th>0</th>\n",
       "      <td>وَأَن تَجمَعا شَملي وَتَنتَظِرا غَدا</td>\n",
       "      <td>خَليلَيَّ لا تَستَعجِلا أَن تَزَوَّدا</td>\n",
       "      <td>خَليلَيَّ لا تَستَعجِلا أَن تَزَوَّدا    وَأَن...</td>\n",
       "      <td>1.0</td>\n",
       "      <td>1.0</td>\n",
       "      <td>1.0</td>\n",
       "      <td>1.0</td>\n",
       "      <td>1.0</td>\n",
       "      <td>1</td>\n",
       "    </tr>\n",
       "    <tr>\n",
       "      <th>1</th>\n",
       "      <td>وَلا سُرعَتي يَوماً بِسابِقَةِ الرَدى</td>\n",
       "      <td>فَما لَبَثٌ يَوماً بِسابِقٍ مَغنَمٍ</td>\n",
       "      <td>فَما لَبَثٌ يَوماً بِسابِقٍ مَغنَمٍ    وَلا سُ...</td>\n",
       "      <td>1.0</td>\n",
       "      <td>1.0</td>\n",
       "      <td>1.0</td>\n",
       "      <td>1.0</td>\n",
       "      <td>1.0</td>\n",
       "      <td>1</td>\n",
       "    </tr>\n",
       "    <tr>\n",
       "      <th>2</th>\n",
       "      <td>وَتَستَوجِبا مَنّاً عَلَيَّ وَتُحمَدا</td>\n",
       "      <td>وَإِن تُنظِراني اليَومَ أَقضِ لُبانَةً</td>\n",
       "      <td>وَإِن تُنظِراني اليَومَ أَقضِ لُبانَةً    وَتَ...</td>\n",
       "      <td>1.0</td>\n",
       "      <td>1.0</td>\n",
       "      <td>1.0</td>\n",
       "      <td>1.0</td>\n",
       "      <td>1.0</td>\n",
       "      <td>1</td>\n",
       "    </tr>\n",
       "    <tr>\n",
       "      <th>3</th>\n",
       "      <td>تُؤامِرُني سِرّاً لِأَصرِمَ مَرثَدا</td>\n",
       "      <td>لَعَمرُكَ ما نَفسٌ بِجِدٍ رَشيدَةٍ</td>\n",
       "      <td>لَعَمرُكَ ما نَفسٌ بِجِدٍ رَشيدَةٍ    تُؤامِرُ...</td>\n",
       "      <td>1.0</td>\n",
       "      <td>1.0</td>\n",
       "      <td>1.0</td>\n",
       "      <td>1.0</td>\n",
       "      <td>1.0</td>\n",
       "      <td>1</td>\n",
       "    </tr>\n",
       "    <tr>\n",
       "      <th>4</th>\n",
       "      <td>وَأَفرَعَ في لَومي مِراراً وَأَصعَدا</td>\n",
       "      <td>وَإِن ظَهَرَت مِنهُ قَوارِصُ جَمَّةٌ</td>\n",
       "      <td>وَإِن ظَهَرَت مِنهُ قَوارِصُ جَمَّةٌ    وَأَفر...</td>\n",
       "      <td>1.0</td>\n",
       "      <td>1.0</td>\n",
       "      <td>1.0</td>\n",
       "      <td>1.0</td>\n",
       "      <td>1.0</td>\n",
       "      <td>1</td>\n",
       "    </tr>\n",
       "    <tr>\n",
       "      <th>...</th>\n",
       "      <td>...</td>\n",
       "      <td>...</td>\n",
       "      <td>...</td>\n",
       "      <td>...</td>\n",
       "      <td>...</td>\n",
       "      <td>...</td>\n",
       "      <td>...</td>\n",
       "      <td>...</td>\n",
       "      <td>...</td>\n",
       "    </tr>\n",
       "    <tr>\n",
       "      <th>1831772</th>\n",
       "      <td>NaN</td>\n",
       "      <td>NaN</td>\n",
       "      <td>NaN</td>\n",
       "      <td>NaN</td>\n",
       "      <td>NaN</td>\n",
       "      <td>NaN</td>\n",
       "      <td>NaN</td>\n",
       "      <td>64.0</td>\n",
       "      <td>1636792</td>\n",
       "    </tr>\n",
       "    <tr>\n",
       "      <th>1831773</th>\n",
       "      <td>NaN</td>\n",
       "      <td>NaN</td>\n",
       "      <td>NaN</td>\n",
       "      <td>NaN</td>\n",
       "      <td>NaN</td>\n",
       "      <td>NaN</td>\n",
       "      <td>NaN</td>\n",
       "      <td>76.0</td>\n",
       "      <td>1636793</td>\n",
       "    </tr>\n",
       "    <tr>\n",
       "      <th>1831774</th>\n",
       "      <td>NaN</td>\n",
       "      <td>NaN</td>\n",
       "      <td>NaN</td>\n",
       "      <td>NaN</td>\n",
       "      <td>NaN</td>\n",
       "      <td>NaN</td>\n",
       "      <td>NaN</td>\n",
       "      <td>78.0</td>\n",
       "      <td>1636794</td>\n",
       "    </tr>\n",
       "    <tr>\n",
       "      <th>1831775</th>\n",
       "      <td>NaN</td>\n",
       "      <td>NaN</td>\n",
       "      <td>NaN</td>\n",
       "      <td>NaN</td>\n",
       "      <td>NaN</td>\n",
       "      <td>NaN</td>\n",
       "      <td>NaN</td>\n",
       "      <td>80.0</td>\n",
       "      <td>1636795</td>\n",
       "    </tr>\n",
       "    <tr>\n",
       "      <th>1831776</th>\n",
       "      <td>NaN</td>\n",
       "      <td>NaN</td>\n",
       "      <td>NaN</td>\n",
       "      <td>NaN</td>\n",
       "      <td>NaN</td>\n",
       "      <td>NaN</td>\n",
       "      <td>NaN</td>\n",
       "      <td>91.0</td>\n",
       "      <td>1636796</td>\n",
       "    </tr>\n",
       "  </tbody>\n",
       "</table>\n",
       "<p>1831777 rows × 9 columns</p>\n",
       "</div>"
      ],
      "text/plain": [
       "                                  الشطر الايسر  \\\n",
       "0         وَأَن تَجمَعا شَملي وَتَنتَظِرا غَدا   \n",
       "1        وَلا سُرعَتي يَوماً بِسابِقَةِ الرَدى   \n",
       "2        وَتَستَوجِبا مَنّاً عَلَيَّ وَتُحمَدا   \n",
       "3          تُؤامِرُني سِرّاً لِأَصرِمَ مَرثَدا   \n",
       "4         وَأَفرَعَ في لَومي مِراراً وَأَصعَدا   \n",
       "...                                        ...   \n",
       "1831772                                    NaN   \n",
       "1831773                                    NaN   \n",
       "1831774                                    NaN   \n",
       "1831775                                    NaN   \n",
       "1831776                                    NaN   \n",
       "\n",
       "                                   الشطر الايمن  \\\n",
       "0         خَليلَيَّ لا تَستَعجِلا أَن تَزَوَّدا   \n",
       "1           فَما لَبَثٌ يَوماً بِسابِقٍ مَغنَمٍ   \n",
       "2        وَإِن تُنظِراني اليَومَ أَقضِ لُبانَةً   \n",
       "3            لَعَمرُكَ ما نَفسٌ بِجِدٍ رَشيدَةٍ   \n",
       "4          وَإِن ظَهَرَت مِنهُ قَوارِصُ جَمَّةٌ   \n",
       "...                                         ...   \n",
       "1831772                                     NaN   \n",
       "1831773                                     NaN   \n",
       "1831774                                     NaN   \n",
       "1831775                                     NaN   \n",
       "1831776                                     NaN   \n",
       "\n",
       "                                                     البيت  kafiya_id  \\\n",
       "0        خَليلَيَّ لا تَستَعجِلا أَن تَزَوَّدا    وَأَن...        1.0   \n",
       "1        فَما لَبَثٌ يَوماً بِسابِقٍ مَغنَمٍ    وَلا سُ...        1.0   \n",
       "2        وَإِن تُنظِراني اليَومَ أَقضِ لُبانَةً    وَتَ...        1.0   \n",
       "3        لَعَمرُكَ ما نَفسٌ بِجِدٍ رَشيدَةٍ    تُؤامِرُ...        1.0   \n",
       "4        وَإِن ظَهَرَت مِنهُ قَوارِصُ جَمَّةٌ    وَأَفر...        1.0   \n",
       "...                                                    ...        ...   \n",
       "1831772                                                NaN        NaN   \n",
       "1831773                                                NaN        NaN   \n",
       "1831774                                                NaN        NaN   \n",
       "1831775                                                NaN        NaN   \n",
       "1831776                                                NaN        NaN   \n",
       "\n",
       "         bahr_type_id  author_id  asr_id  diwan_id  poem_id  \n",
       "0                 1.0        1.0     1.0       1.0        1  \n",
       "1                 1.0        1.0     1.0       1.0        1  \n",
       "2                 1.0        1.0     1.0       1.0        1  \n",
       "3                 1.0        1.0     1.0       1.0        1  \n",
       "4                 1.0        1.0     1.0       1.0        1  \n",
       "...               ...        ...     ...       ...      ...  \n",
       "1831772           NaN        NaN     NaN      64.0  1636792  \n",
       "1831773           NaN        NaN     NaN      76.0  1636793  \n",
       "1831774           NaN        NaN     NaN      78.0  1636794  \n",
       "1831775           NaN        NaN     NaN      80.0  1636795  \n",
       "1831776           NaN        NaN     NaN      91.0  1636796  \n",
       "\n",
       "[1831777 rows x 9 columns]"
      ]
     },
     "execution_count": 15,
     "metadata": {},
     "output_type": "execute_result"
    }
   ],
   "source": [
    "final_df=pd.read_csv(\"./storage/app/public/ready_for_insertion.csv\",index_col=0)\n",
    "\n",
    "\n",
    "\n",
    "# Initialize variables\n",
    "current_author = 1\n",
    "poem_id = 1\n",
    "poem_ids = []\n",
    "\n",
    "# Loop through the rows\n",
    "for index, row in final_df.iterrows():\n",
    "    # Check if the current row has a different author_id\n",
    "    if row['author_id'] != current_author:\n",
    "        # If the author_id changes, assign a new poem_id\n",
    "        poem_id += 1\n",
    "        current_author = row['author_id']\n",
    "    \n",
    "    # Assign the current poem_id to the row\n",
    "    poem_ids.append(poem_id)\n",
    "\n",
    "# Add the poem_ids as a new column to the DataFrame\n",
    "final_df['poem_id'] = poem_ids\n",
    "\n",
    "\n",
    "final_df\n",
    "\n"
   ]
  },
  {
   "cell_type": "code",
   "execution_count": 17,
   "metadata": {},
   "outputs": [],
   "source": [
    "final_df.dropna(inplace=True,how='all',subset=['البيت','الشطر الايمن','الشطر الايسر'])\n",
    "\n",
    "\n",
    "final_df.shape\n",
    "\n",
    "final_df.to_csv(\"./storage/app/public/ready_for_insertion.csv\",index=True)"
   ]
  },
  {
   "cell_type": "code",
   "execution_count": 19,
   "metadata": {},
   "outputs": [
    {
     "data": {
      "text/plain": [
       "(1831770, 10)"
      ]
     },
     "execution_count": 19,
     "metadata": {},
     "output_type": "execute_result"
    }
   ],
   "source": [
    "df=pd.read_csv(\"./storage/app/public/ready_for_insertion.csv\")\n",
    "\n",
    "\n",
    "df.shape"
   ]
  },
  {
   "cell_type": "code",
   "execution_count": 21,
   "metadata": {},
   "outputs": [
    {
     "data": {
      "text/plain": [
       "1636790"
      ]
     },
     "execution_count": 21,
     "metadata": {},
     "output_type": "execute_result"
    }
   ],
   "source": [
    "df['poem_id'].max()"
   ]
  }
 ],
 "metadata": {
  "kernelspec": {
   "display_name": "lab1",
   "language": "python",
   "name": "python3"
  },
  "language_info": {
   "codemirror_mode": {
    "name": "ipython",
    "version": 3
   },
   "file_extension": ".py",
   "mimetype": "text/x-python",
   "name": "python",
   "nbconvert_exporter": "python",
   "pygments_lexer": "ipython3",
   "version": "3.11.5"
  }
 },
 "nbformat": 4,
 "nbformat_minor": 2
}
